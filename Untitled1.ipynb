{
 "cells": [
  {
   "cell_type": "code",
   "execution_count": 3,
   "id": "cd0b6b12-cb58-4e2a-ba13-17b7be63914d",
   "metadata": {},
   "outputs": [
    {
     "data": {
      "text/plain": [
       "(0.864406779661017, 'parkinsons_model.sav')"
      ]
     },
     "execution_count": 3,
     "metadata": {},
     "output_type": "execute_result"
    }
   ],
   "source": [
    "import pandas as pd\n",
    "from sklearn.model_selection import train_test_split\n",
    "from sklearn.svm import SVC\n",
    "from sklearn.metrics import accuracy_score\n",
    "import pickle\n",
    "\n",
    "# Load the dataset\n",
    "\n",
    "data = pd.read_csv('parkinsons.csv')\n",
    "\n",
    "# Split the data into features and target variable\n",
    "X = data.drop(columns=['name', 'status'])\n",
    "y = data['status']\n",
    "\n",
    "# Split the dataset into training and testing sets\n",
    "X_train, X_test, y_train, y_test = train_test_split(X, y, test_size=0.3, random_state=42)\n",
    "\n",
    "# Train the Support Vector Machine (SVM) model\n",
    "svm_model = SVC(kernel='linear', random_state=42)\n",
    "svm_model.fit(X_train, y_train)\n",
    "\n",
    "# Predict on the test set\n",
    "y_pred = svm_model.predict(X_test)\n",
    "\n",
    "# Calculate the accuracy\n",
    "accuracy = accuracy_score(y_test, y_pred)\n",
    "\n",
    "# Save the model to a .sav file\n",
    "model_filename = 'parkinsons_model.sav'\n",
    "with open(model_filename, 'wb') as file:\n",
    "    pickle.dump(svm_model, file)\n",
    "\n",
    "accuracy, model_filename\n"
   ]
  },
  {
   "cell_type": "code",
   "execution_count": null,
   "id": "b3619185-c963-4acb-b9b8-3788e7e0b37a",
   "metadata": {},
   "outputs": [],
   "source": []
  }
 ],
 "metadata": {
  "kernelspec": {
   "display_name": "Python 3 (ipykernel)",
   "language": "python",
   "name": "python3"
  },
  "language_info": {
   "codemirror_mode": {
    "name": "ipython",
    "version": 3
   },
   "file_extension": ".py",
   "mimetype": "text/x-python",
   "name": "python",
   "nbconvert_exporter": "python",
   "pygments_lexer": "ipython3",
   "version": "3.12.4"
  }
 },
 "nbformat": 4,
 "nbformat_minor": 5
}
